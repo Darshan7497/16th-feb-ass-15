{
 "cells": [
  {
   "cell_type": "markdown",
   "id": "0730ba97-1adf-42ff-9c42-e342abb6eb4d",
   "metadata": {},
   "source": [
    "# Q1. What is a database? Differentiate between SQL and NoSQL databases."
   ]
  },
  {
   "cell_type": "markdown",
   "id": "9e4cba7d-6286-419b-bbfc-3fa6a9cb6a00",
   "metadata": {},
   "source": [
    "A database is a structured collection of data that can be stored, organized, and accessed electronically. It is a fundamental tool for managing and manipulating large amounts of data efficiently and effectively.\n",
    "\n",
    "SQL databases are relational databases that store data in tables with a predefined schema. The schema defines the columns and data types for each table, and the relationships between the tables. SQL databases use SQL as their query language to retrieve and manipulate data. Examples of SQL databases include MySQL, Oracle, and PostgreSQL.\n",
    "\n",
    "NoSQL databases, on the other hand, are non-relational databases that store data in flexible, dynamic schemas. NoSQL databases use a variety of data models, including document-oriented, key-value, graph, and column-family. NoSQL databases are designed to be highly scalable and can handle large volumes of unstructured data. Some examples of NoSQL databases include MongoDB, Cassandra, and Redis."
   ]
  },
  {
   "cell_type": "markdown",
   "id": "374958cf-64f9-4b8a-88fd-743793d583ef",
   "metadata": {},
   "source": [
    "# Q2. What is DDL? Explain why CREATE, DROP, ALTER, and TRUNCATE are used with an example."
   ]
  },
  {
   "cell_type": "markdown",
   "id": "3fb59151-0f8b-4168-b5bb-471da68b505c",
   "metadata": {},
   "source": [
    "DDL stands for Data Definition Language, which is a subset of SQL used to create, modify, and delete database objects such as tables, views, indexes, and constraints.\n",
    "\n",
    "CREATE: used to create a new database object such as a table, view, or index. For example, the following command creates a new table called \"customers\" with three columns: \"id\", \"name\", and \"email\":"
   ]
  },
  {
   "cell_type": "code",
   "execution_count": null,
   "id": "6da73f4c-a218-428f-bc42-65f950609f8b",
   "metadata": {},
   "outputs": [],
   "source": [
    "CREATE TABLE customers (\n",
    "    id INT PRIMARY KEY,\n",
    "    name VARCHAR(50),\n",
    "    email VARCHAR(50)\n",
    ");"
   ]
  },
  {
   "cell_type": "markdown",
   "id": "986a4d04-2c2c-48dc-8691-8db17f2c51d9",
   "metadata": {},
   "source": [
    "DROP: used to delete an existing database object such as a table, view, or index. For example, the following command drops the \"customers\" table: **DROP TABLE customers;\n",
    "\n",
    "ALTER: used to modify the structure of an existing database object such as a table or view. For example, the following command adds a new column called \"address\" to the \"customers\" table:"
   ]
  },
  {
   "cell_type": "code",
   "execution_count": null,
   "id": "f46da492-6db1-4b44-b945-f14ad4c09d4a",
   "metadata": {},
   "outputs": [],
   "source": [
    "ALTER TABLE customers\n",
    "ADD COLUMN address VARCHAR(50);"
   ]
  },
  {
   "cell_type": "markdown",
   "id": "d14a0466-ef13-4e4b-93b3-08222627e557",
   "metadata": {},
   "source": [
    "TRUNCATE: used to delete all the data from an existing table while keeping its structure intact. For example, the following command deletes all the data from the \"customers\" table: **TRUNCATE TABLE customers;"
   ]
  },
  {
   "cell_type": "markdown",
   "id": "0976e6c1-241c-47f3-bb85-932dfda8aea9",
   "metadata": {},
   "source": [
    "# Q3. What is DML? Explain INSERT, UPDATE, and DELETE with an example."
   ]
  },
  {
   "cell_type": "markdown",
   "id": "8dc9e18b-8d7e-43e6-8cb4-7d669f119357",
   "metadata": {},
   "source": [
    "DML stands for Data Manipulation Language, which is a subset of SQL used to insert, update, and delete data from tables in a database.\n",
    "\n",
    "INSERT: used to add new data to a table. For example, the following command inserts a new record into the \"customers\" table:"
   ]
  },
  {
   "cell_type": "code",
   "execution_count": null,
   "id": "f2b673d3-0086-457e-a92f-e59b9b8ff5c0",
   "metadata": {},
   "outputs": [],
   "source": [
    "INSERT INTO customers (id, name, email)\n",
    "VALUES (1, 'user', 'user@.com');"
   ]
  },
  {
   "cell_type": "markdown",
   "id": "f1f6691a-358b-4d34-9856-c270a880eaf6",
   "metadata": {},
   "source": [
    "UPDATE: used to modify existing data in a table. For example, the following command updates the email address for the customer with ID 1:"
   ]
  },
  {
   "cell_type": "code",
   "execution_count": null,
   "id": "02b333aa-5132-41c5-a9c6-a1ef5c26d5f7",
   "metadata": {},
   "outputs": [],
   "source": [
    "UPDATE customers\n",
    "SET email = 'test@example.com'\n",
    "WHERE id = 1;"
   ]
  },
  {
   "cell_type": "markdown",
   "id": "5aefc4cf-8fa8-4503-a617-ad5c4c91ffe3",
   "metadata": {},
   "source": [
    "DELETE: used to delete data from a table. For example, the following command deletes the record for the customer with ID 1:"
   ]
  },
  {
   "cell_type": "code",
   "execution_count": null,
   "id": "7c0b9a6b-65d1-4438-88f5-52d08a5d4058",
   "metadata": {},
   "outputs": [],
   "source": [
    "DELETE FROM customers\n",
    "WHERE id = 1;"
   ]
  },
  {
   "cell_type": "markdown",
   "id": "884ec69a-11ae-457e-9935-d6eaff8503a3",
   "metadata": {},
   "source": [
    "# Q4. What is DQL? Explain SELECT with an example."
   ]
  },
  {
   "cell_type": "markdown",
   "id": "0139abd1-9c20-4dfb-9b87-33ecc247932c",
   "metadata": {},
   "source": [
    "DQL stands for Data Query Language, which is a subset of SQL used to retrieve data from tables in a database. The main command used in DQL is SELECT.\n",
    "\n",
    "SELECT is used to retrieve data from one or more tables in a database. It allows you to specify which columns to retrieve"
   ]
  },
  {
   "cell_type": "code",
   "execution_count": null,
   "id": "ba49ceb1-0037-4cf3-836e-18e2916502aa",
   "metadata": {},
   "outputs": [],
   "source": [
    "SELECT name, salary\n",
    "FROM employees\n",
    "WHERE department = 'sales';"
   ]
  },
  {
   "cell_type": "markdown",
   "id": "33fb0b9e-d4b5-4215-8f50-ff26db9ed98f",
   "metadata": {},
   "source": [
    "# Q5. Explain Primary Key and Foreign Key."
   ]
  },
  {
   "cell_type": "code",
   "execution_count": null,
   "id": "19be68ff-02f1-4349-b874-68618400ae85",
   "metadata": {},
   "outputs": [],
   "source": []
  }
 ],
 "metadata": {
  "kernelspec": {
   "display_name": "Python 3 (ipykernel)",
   "language": "python",
   "name": "python3"
  },
  "language_info": {
   "codemirror_mode": {
    "name": "ipython",
    "version": 3
   },
   "file_extension": ".py",
   "mimetype": "text/x-python",
   "name": "python",
   "nbconvert_exporter": "python",
   "pygments_lexer": "ipython3",
   "version": "3.10.8"
  }
 },
 "nbformat": 4,
 "nbformat_minor": 5
}
